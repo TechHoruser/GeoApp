{
 "cells": [
  {
   "cell_type": "code",
   "execution_count": 16,
   "metadata": {
    "collapsed": true
   },
   "outputs": [],
   "source": [
    "__author__ = 'Jos\\'user'\n",
    "import twitter\n",
    "\n",
    "import io\n",
    "import json\n",
    "\n",
    "#Función para la conexión.\n",
    "def oauth_login():\n",
    "    CONSUMER_KEY = 'olCGavekol2fbLebHRejjaoR6'\n",
    "    CONSUMER_SECRET = 'Ht9iRfXzh3mXr0994zLuCSGZHZc5mMvhddNqhP8yjS6a5Qhb3u'\n",
    "    OAUTH_TOKEN = '722369984-8cG7gCQxWL6cCJHstWAZCQ1ADz2LdNjLs38EpEjw'\n",
    "    OAUTH_TOKEN_SECRET = 'KNkkFKjZy6QMJKA5yTLb6e8BLjGwnrAqqkBGNs7Oji4Nu'\n",
    "\n",
    "    auth = twitter.oauth.OAuth(OAUTH_TOKEN, OAUTH_TOKEN_SECRET, CONSUMER_KEY, CONSUMER_SECRET)\n",
    "\n",
    "    twitter_api = twitter.Twitter(auth=auth)\n",
    "    return twitter_api"
   ]
  },
  {
   "cell_type": "code",
   "execution_count": 23,
   "metadata": {
    "collapsed": false
   },
   "outputs": [],
   "source": [
    "import datetime\n",
    "\n",
    "def geo(tw,ht):\n",
    "    query = tw.search.tweets(q=(ht),count=100)\n",
    "    \n",
    "    listado=[]\n",
    "    \n",
    "    for resultado in query[\"statuses\"]:\n",
    "        # only process a result if it has a geolocation\n",
    "        if resultado[\"place\"]:\n",
    "            #(resultado[\"place\"][\"bounding_box\"][\"coordinates\"][0])\n",
    "            momento = datetime.datetime.strptime(resultado[\"created_at\"], '%a %b %d %H:%M:%S +0000 %Y')\n",
    "            latitud = 0\n",
    "            longitud = 0\n",
    "            for e in resultado[\"place\"][\"bounding_box\"][\"coordinates\"][0]:\n",
    "                latitud += e[0]\n",
    "                longitud += e[1]\n",
    "            latitud = latitud/len(resultado[\"place\"][\"bounding_box\"][\"coordinates\"][0])\n",
    "            longitud = longitud/len(resultado[\"place\"][\"bounding_box\"][\"coordinates\"][0])\n",
    "            \n",
    "            momento = momento + datetime.timedelta(hours=1)\n",
    "            listado.append({\"id\":resultado[\"id\"], \"lugar\" : resultado[\"place\"][\"full_name\"], \"momento\" : momento, \"latitud\" : latitud, \"longitud\" : longitud})\n",
    "            \n",
    "    return listado"
   ]
  },
  {
   "cell_type": "code",
   "execution_count": 24,
   "metadata": {
    "collapsed": false
   },
   "outputs": [],
   "source": [
    "from mpl_toolkits.basemap import Basemap\n",
    "import matplotlib.pyplot as plt\n",
    "import numpy as np\n",
    "# set up orthographic map projection with\n",
    "# perspective of satellite looking down at 50N, 100W.\n",
    "# use low resolution coastlines.\n",
    "def show_map(l):\n",
    "    map = Basemap(projection='mill',resolution='l')\n",
    "\n",
    "    #Ancho de bordes\n",
    "    map.drawcoastlines(linewidth=0.1)\n",
    "    map.drawcountries(linewidth=0.3)\n",
    "\n",
    "    #COLOR TERRENO y LAGOS\n",
    "    #map.fillcontinents(color='white',lake_color='aqua')\n",
    "\n",
    "    #OCEANOS y MARES\n",
    "    map.drawmapboundary(color='white')\n",
    "    \n",
    "    # draw lat/lon grid lines every 30 degrees.\n",
    "    # make up some data on a regular lat/lon grid.\n",
    "    # compute native map projection coordinates of lat/lon grid.\n",
    "    for e in l:\n",
    "        x, y = map(e['latitud'],e['longitud'])\n",
    "        map.scatter(x,y,20,marker='o',color='red')\n",
    "    plt.title('Marcas de TAGS')\n",
    "    plt.show()"
   ]
  },
  {
   "cell_type": "code",
   "execution_count": 35,
   "metadata": {
    "collapsed": false
   },
   "outputs": [],
   "source": [
    "tag = '#ViveAhoraFallas'\n",
    "\n",
    "#Obtener listado con horas y localizaciones donde encontrar la cadena\n",
    "l = geo(oauth_login(),tag)\n",
    "\n",
    "#Imprime esa información en en un mapamundi\n",
    "show_map(l)\n",
    "\n"
   ]
  },
  {
   "cell_type": "code",
   "execution_count": 33,
   "metadata": {
    "collapsed": false,
    "scrolled": true
   },
   "outputs": [
    {
     "data": {
      "text/plain": [
       "[{'id': 710538062376394757,\n",
       "  'latitud': -0.35252890000000003,\n",
       "  'longitud': 39.4224844,\n",
       "  'lugar': u'Valencia, Spain',\n",
       "  'momento': datetime.datetime(2016, 3, 17, 19, 47, 29)},\n",
       " {'id': 710529485779640321,\n",
       "  'latitud': 1.66427325,\n",
       "  'longitud': 28.01716905,\n",
       "  'lugar': u'Algeria',\n",
       "  'momento': datetime.datetime(2016, 3, 17, 19, 13, 25)},\n",
       " {'id': 710520971984302080,\n",
       "  'latitud': -0.5155211000000001,\n",
       "  'longitud': 38.3489052,\n",
       "  'lugar': u'Alicante, Spain',\n",
       "  'momento': datetime.datetime(2016, 3, 17, 18, 39, 35)},\n",
       " {'id': 710520163687383041,\n",
       "  'latitud': -0.5155211000000001,\n",
       "  'longitud': 38.3489052,\n",
       "  'lugar': u'Alicante, Spain',\n",
       "  'momento': datetime.datetime(2016, 3, 17, 18, 36, 22)},\n",
       " {'id': 710519735981576192,\n",
       "  'latitud': -0.48783935,\n",
       "  'longitud': 39.47039215,\n",
       "  'lugar': u'Quart de Poblet, Espa\\xf1a',\n",
       "  'momento': datetime.datetime(2016, 3, 17, 18, 34, 40)},\n",
       " {'id': 710519407878000641,\n",
       "  'latitud': -0.5155211000000001,\n",
       "  'longitud': 38.3489052,\n",
       "  'lugar': u'Alicante, Spain',\n",
       "  'momento': datetime.datetime(2016, 3, 17, 18, 33, 22)},\n",
       " {'id': 710519013990866946,\n",
       "  'latitud': -3.8161533499999996,\n",
       "  'longitud': 40.5247236,\n",
       "  'lugar': u'Madrid, Comunidad de Madrid',\n",
       "  'momento': datetime.datetime(2016, 3, 17, 18, 31, 48)},\n",
       " {'id': 710518521273454592,\n",
       "  'latitud': -0.5155211000000001,\n",
       "  'longitud': 38.3489052,\n",
       "  'lugar': u'Alicante, Spain',\n",
       "  'momento': datetime.datetime(2016, 3, 17, 18, 29, 50)}]"
      ]
     },
     "execution_count": 33,
     "metadata": {},
     "output_type": "execute_result"
    }
   ],
   "source": [
    "l"
   ]
  },
  {
   "cell_type": "code",
   "execution_count": null,
   "metadata": {
    "collapsed": true
   },
   "outputs": [],
   "source": []
  }
 ],
 "metadata": {
  "kernelspec": {
   "display_name": "Python 2",
   "language": "python",
   "name": "python2"
  },
  "language_info": {
   "codemirror_mode": {
    "name": "ipython",
    "version": 2
   },
   "file_extension": ".py",
   "mimetype": "text/x-python",
   "name": "python",
   "nbconvert_exporter": "python",
   "pygments_lexer": "ipython2",
   "version": "2.7.10"
  }
 },
 "nbformat": 4,
 "nbformat_minor": 0
}
